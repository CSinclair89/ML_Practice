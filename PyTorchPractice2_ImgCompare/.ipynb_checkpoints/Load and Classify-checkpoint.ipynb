{
 "cells": [
  {
   "cell_type": "code",
   "execution_count": 1,
   "id": "190c6063",
   "metadata": {},
   "outputs": [],
   "source": [
    "import torch\n",
    "import torchvision\n",
    "import torchvision.transforms as transforms\n",
    "import PIL.Image as Image"
   ]
  },
  {
   "cell_type": "code",
   "execution_count": 2,
   "id": "69e64bda",
   "metadata": {},
   "outputs": [],
   "source": [
    "classes = [\n",
    "    \"Mantled Howler\",\n",
    "    \"Patas Monkey\",\n",
    "    \"Bald Uakari\",\n",
    "    \"Japanese Macaque\",\n",
    "    \"Pygmy Marmoset\",\n",
    "    \"White Headed Capuchin\",\n",
    "    \"Silvery Marmoset\",\n",
    "    \"Common Squirrel Monkey\",\n",
    "    \"Black Headed Night Monkey\",\n",
    "    \"Nilgiri Langur\"\n",
    "]"
   ]
  },
  {
   "cell_type": "code",
   "execution_count": 4,
   "id": "696d26e0",
   "metadata": {},
   "outputs": [],
   "source": [
    "model = torch.load(\"Best_model.pth\")\n",
    "\n",
    "mean = [0.4363, 0.4328, 0.3291]\n",
    "std = [0.2129, 0.2075, 0.2038]\n",
    "\n",
    "image_transforms = transforms.Compose([\n",
    "    transforms.Resize((224, 224)),\n",
    "    transforms.ToTensor(),\n",
    "    transforms.Normalize(torch.Tensor(mean), torch.Tensor(std))\n",
    "])"
   ]
  },
  {
   "cell_type": "code",
   "execution_count": 9,
   "id": "1e6faf42",
   "metadata": {},
   "outputs": [
    {
     "name": "stdout",
     "output_type": "stream",
     "text": [
      "Pygmy Marmoset\n"
     ]
    }
   ],
   "source": [
    "def classify(model, image_transforms, image_path, classes):\n",
    "    model = model.eval() # Model should be in evaluation mode so it will not train\n",
    "    image = Image.open(image_path)\n",
    "    image = image_transforms(image).float()\n",
    "    image = image.unsqueeze(0)\n",
    "    \n",
    "    output = model(image)\n",
    "    _, predicted = torch.max(output.data, 1)\n",
    "    \n",
    "    print(classes[predicted.item()])\n",
    "    \n",
    "classify(model, image_transforms, \"pygmy_marmoset.jpg\", classes)"
   ]
  },
  {
   "cell_type": "code",
   "execution_count": 10,
   "id": "d9d800cd",
   "metadata": {},
   "outputs": [
    {
     "name": "stdout",
     "output_type": "stream",
     "text": [
      "White Headed Capuchin\n"
     ]
    }
   ],
   "source": [
    "classify(model, image_transforms, \"white_headed_capuchin.jpg\", classes)"
   ]
  },
  {
   "cell_type": "code",
   "execution_count": null,
   "id": "4d72f652",
   "metadata": {},
   "outputs": [],
   "source": []
  }
 ],
 "metadata": {
  "kernelspec": {
   "display_name": "Python 3 (ipykernel)",
   "language": "python",
   "name": "python3"
  },
  "language_info": {
   "codemirror_mode": {
    "name": "ipython",
    "version": 3
   },
   "file_extension": ".py",
   "mimetype": "text/x-python",
   "name": "python",
   "nbconvert_exporter": "python",
   "pygments_lexer": "ipython3",
   "version": "3.11.5"
  }
 },
 "nbformat": 4,
 "nbformat_minor": 5
}
