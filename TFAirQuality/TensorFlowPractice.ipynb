{
 "cells": [
  {
   "cell_type": "code",
   "execution_count": 1,
   "id": "266b34f6",
   "metadata": {},
   "outputs": [
    {
     "name": "stdout",
     "output_type": "stream",
     "text": [
      "WARNING:tensorflow:From C:\\Users\\Chris\\anaconda3\\lib\\site-packages\\keras\\src\\losses.py:2976: The name tf.losses.sparse_softmax_cross_entropy is deprecated. Please use tf.compat.v1.losses.sparse_softmax_cross_entropy instead.\n",
      "\n"
     ]
    }
   ],
   "source": [
    "import tensorflow as tf"
   ]
  },
  {
   "cell_type": "code",
   "execution_count": 2,
   "id": "4d5fb5a7",
   "metadata": {},
   "outputs": [
    {
     "name": "stdout",
     "output_type": "stream",
     "text": [
      "TensorFlow version: 2.15.0\n"
     ]
    }
   ],
   "source": [
    "print((\"TensorFlow version: {0}\").format(tf.__version__))"
   ]
  },
  {
   "cell_type": "code",
   "execution_count": 7,
   "id": "b15d44e2",
   "metadata": {},
   "outputs": [],
   "source": [
    "# Constant tensor A\n",
    "a = tf.constant([[4, 3],\n",
    "                [6, 1]])"
   ]
  },
  {
   "cell_type": "code",
   "execution_count": 10,
   "id": "b91d44e1",
   "metadata": {},
   "outputs": [
    {
     "name": "stdout",
     "output_type": "stream",
     "text": [
      "<tf.Variable 'Variable:0' shape=(2, 2) dtype=int32, numpy=\n",
      "array([[3, 1],\n",
      "       [5, 2]])>\n"
     ]
    },
    {
     "data": {
      "text/plain": [
       "<tf.Tensor: shape=(2, 2), dtype=int32, numpy=\n",
       "array([[7, 8],\n",
       "       [4, 5]])>"
      ]
     },
     "execution_count": 10,
     "metadata": {},
     "output_type": "execute_result"
    }
   ],
   "source": [
    "v = tf.Variable([[3,1],\n",
    "                [5,2]])\n",
    "\n",
    "b = tf.constant([[7, 8],\n",
    "                [4, 5]])\n",
    "\n",
    "print(v)\n",
    "b"
   ]
  },
  {
   "cell_type": "code",
   "execution_count": 12,
   "id": "13733b8e",
   "metadata": {},
   "outputs": [
    {
     "data": {
      "text/plain": [
       "<tf.Tensor: shape=(2, 4), dtype=int32, numpy=\n",
       "array([[4, 3, 7, 8],\n",
       "       [6, 1, 4, 5]])>"
      ]
     },
     "execution_count": 12,
     "metadata": {},
     "output_type": "execute_result"
    }
   ],
   "source": [
    "# Concatenate columns\n",
    "ab_concatenated = tf.concat(values = [a, b], axis = 1)\n",
    "ab_concatenated"
   ]
  },
  {
   "cell_type": "code",
   "execution_count": 13,
   "id": "ebff95ba",
   "metadata": {},
   "outputs": [
    {
     "data": {
      "text/plain": [
       "<tf.Tensor: shape=(4, 2), dtype=int32, numpy=\n",
       "array([[4, 3],\n",
       "       [6, 1],\n",
       "       [7, 8],\n",
       "       [4, 5]])>"
      ]
     },
     "execution_count": 13,
     "metadata": {},
     "output_type": "execute_result"
    }
   ],
   "source": [
    "ab_concatenated = tf.concat(values = [a, b], axis = 0)\n",
    "ab_concatenated"
   ]
  },
  {
   "cell_type": "code",
   "execution_count": 19,
   "id": "3d4653f6",
   "metadata": {},
   "outputs": [
    {
     "data": {
      "text/plain": [
       "<tf.Tensor: shape=(3, 4), dtype=float32, numpy=\n",
       "array([[0.45883632, 0.7660476 , 0.61051774, 0.26820362],\n",
       "       [0.9750439 , 0.16107333, 0.25231457, 0.65323055],\n",
       "       [0.80763745, 0.6980587 , 0.90824485, 0.9017751 ]], dtype=float32)>"
      ]
     },
     "execution_count": 19,
     "metadata": {},
     "output_type": "execute_result"
    }
   ],
   "source": [
    "tensor = tf.random.uniform(shape = [3, 4], dtype = tf.float32)\n",
    "tensor"
   ]
  },
  {
   "cell_type": "code",
   "execution_count": 20,
   "id": "b070c7d8",
   "metadata": {},
   "outputs": [
    {
     "data": {
      "text/plain": [
       "<tf.Tensor: shape=(4, 3), dtype=float32, numpy=\n",
       "array([[0.45883632, 0.7660476 , 0.61051774],\n",
       "       [0.26820362, 0.9750439 , 0.16107333],\n",
       "       [0.25231457, 0.65323055, 0.80763745],\n",
       "       [0.6980587 , 0.90824485, 0.9017751 ]], dtype=float32)>"
      ]
     },
     "execution_count": 20,
     "metadata": {},
     "output_type": "execute_result"
    }
   ],
   "source": [
    "reshaped_tensor = tf.reshape(tensor = tensor, shape = [4, 3])\n",
    "reshaped_tensor"
   ]
  },
  {
   "cell_type": "code",
   "execution_count": 23,
   "id": "ffdd494e",
   "metadata": {},
   "outputs": [
    {
     "data": {
      "text/plain": [
       "<tf.Tensor: shape=(4, 2), dtype=int32, numpy=\n",
       "array([[4, 4],\n",
       "       [7, 3],\n",
       "       [2, 9],\n",
       "       [6, 8]])>"
      ]
     },
     "execution_count": 23,
     "metadata": {},
     "output_type": "execute_result"
    }
   ],
   "source": [
    "# Recasting a tensor\n",
    "\n",
    "tensor = tf.constant([[4.6, 4.2],\n",
    "                     [7.5, 3.6],\n",
    "                     [2.7, 9.4],\n",
    "                     [6.7, 8.3]],\n",
    "                    dtype = tf.float32)\n",
    "\n",
    "tensor_as_int = tf.cast(tensor, tf.int32)\n",
    "tensor_as_int"
   ]
  },
  {
   "cell_type": "code",
   "execution_count": 25,
   "id": "63165387",
   "metadata": {},
   "outputs": [
    {
     "data": {
      "text/plain": [
       "<tf.Tensor: shape=(2, 4), dtype=int32, numpy=\n",
       "array([[4, 7, 2, 6],\n",
       "       [4, 3, 9, 8]])>"
      ]
     },
     "execution_count": 25,
     "metadata": {},
     "output_type": "execute_result"
    }
   ],
   "source": [
    "a = tf.transpose(tensor_as_int)\n",
    "a"
   ]
  },
  {
   "cell_type": "code",
   "execution_count": 26,
   "id": "b7ca9a61",
   "metadata": {},
   "outputs": [
    {
     "data": {
      "text/plain": [
       "<tf.Tensor: shape=(2, 1), dtype=int32, numpy=\n",
       "array([[36],\n",
       "       [30]])>"
      ]
     },
     "execution_count": 26,
     "metadata": {},
     "output_type": "execute_result"
    }
   ],
   "source": [
    "# Matrix multiplication of tensors\n",
    "\n",
    "a = tf.constant([[5, 8],\n",
    "                [3, 9]])\n",
    "\n",
    "v = tf.constant([[4],\n",
    "                [2]])\n",
    "\n",
    "av = tf.matmul(a, v)\n",
    "av"
   ]
  },
  {
   "cell_type": "code",
   "execution_count": 27,
   "id": "bec70d5e",
   "metadata": {},
   "outputs": [
    {
     "data": {
      "text/plain": [
       "<tf.Tensor: shape=(2, 2), dtype=int32, numpy=\n",
       "array([[20, 32],\n",
       "       [ 6, 18]])>"
      ]
     },
     "execution_count": 27,
     "metadata": {},
     "output_type": "execute_result"
    }
   ],
   "source": [
    "# Element-wise multiplication\n",
    "\n",
    "av = tf.multiply(a, v)\n",
    "av"
   ]
  },
  {
   "cell_type": "code",
   "execution_count": 31,
   "id": "e54da8c7",
   "metadata": {},
   "outputs": [
    {
     "name": "stdout",
     "output_type": "stream",
     "text": [
      "Rows: 3 | Columns: 2\n"
     ]
    },
    {
     "data": {
      "text/plain": [
       "<tf.Tensor: shape=(3, 2), dtype=int32, numpy=\n",
       "array([[1, 0],\n",
       "       [0, 1],\n",
       "       [0, 0]])>"
      ]
     },
     "execution_count": 31,
     "metadata": {},
     "output_type": "execute_result"
    }
   ],
   "source": [
    "# Creating an identity matrix\n",
    "\n",
    "a = tf.constant([[4, 9],\n",
    "                [5, 6],\n",
    "                [1, 8]])\n",
    "\n",
    "rows, columns = a.shape\n",
    "print(\"Rows:\", rows, \"| Columns:\", columns)\n",
    "a_identity = tf.eye(num_rows = rows, num_columns = columns, dtype = tf.int32)\n",
    "a_identity"
   ]
  },
  {
   "cell_type": "code",
   "execution_count": null,
   "id": "a21f83e2",
   "metadata": {},
   "outputs": [],
   "source": []
  }
 ],
 "metadata": {
  "kernelspec": {
   "display_name": "Python 3 (ipykernel)",
   "language": "python",
   "name": "python3"
  },
  "language_info": {
   "codemirror_mode": {
    "name": "ipython",
    "version": 3
   },
   "file_extension": ".py",
   "mimetype": "text/x-python",
   "name": "python",
   "nbconvert_exporter": "python",
   "pygments_lexer": "ipython3",
   "version": "3.9.13"
  }
 },
 "nbformat": 4,
 "nbformat_minor": 5
}
